{
 "cells": [
  {
   "cell_type": "code",
   "execution_count": 24,
   "metadata": {},
   "outputs": [],
   "source": [
    "%matplotlib notebook"
   ]
  },
  {
   "cell_type": "code",
   "execution_count": 25,
   "metadata": {},
   "outputs": [],
   "source": [
    "from scipy.stats import linregress\n",
    "import matplotlib.pyplot as plt\n",
    "import pandas as pd\n",
    "import numpy as np\n",
    "import requests\n",
    "import gmaps\n",
    "import os\n",
    "import plotly.express as px"
   ]
  },
  {
   "cell_type": "code",
   "execution_count": 26,
   "metadata": {},
   "outputs": [
    {
     "data": {
      "text/html": [
       "<div>\n",
       "<style scoped>\n",
       "    .dataframe tbody tr th:only-of-type {\n",
       "        vertical-align: middle;\n",
       "    }\n",
       "\n",
       "    .dataframe tbody tr th {\n",
       "        vertical-align: top;\n",
       "    }\n",
       "\n",
       "    .dataframe thead th {\n",
       "        text-align: right;\n",
       "    }\n",
       "</style>\n",
       "<table border=\"1\" class=\"dataframe\">\n",
       "  <thead>\n",
       "    <tr style=\"text-align: right;\">\n",
       "      <th></th>\n",
       "      <th>version https://git-lfs.github.com/spec/v1</th>\n",
       "    </tr>\n",
       "  </thead>\n",
       "  <tbody>\n",
       "    <tr>\n",
       "      <th>0</th>\n",
       "      <td>oid sha256:99a58a3539a0c292d00b68ff66b260a8582...</td>\n",
       "    </tr>\n",
       "    <tr>\n",
       "      <th>1</th>\n",
       "      <td>size 1668796</td>\n",
       "    </tr>\n",
       "  </tbody>\n",
       "</table>\n",
       "</div>"
      ],
      "text/plain": [
       "          version https://git-lfs.github.com/spec/v1\n",
       "0  oid sha256:99a58a3539a0c292d00b68ff66b260a8582...\n",
       "1                                       size 1668796"
      ]
     },
     "execution_count": 26,
     "metadata": {},
     "output_type": "execute_result"
    }
   ],
   "source": [
    "wine_df = pd.read_csv('Wine_data1.csv', encoding=\"ISO-8859-1\")\n",
    "\n",
    "wine_df.head()"
   ]
  },
  {
   "cell_type": "code",
   "execution_count": null,
   "metadata": {},
   "outputs": [],
   "source": []
  },
  {
   "cell_type": "code",
   "execution_count": 5,
   "metadata": {},
   "outputs": [
    {
     "ename": "KeyError",
     "evalue": "'Country'",
     "output_type": "error",
     "traceback": [
      "\u001b[0;31m---------------------------------------------------------------------------\u001b[0m",
      "\u001b[0;31mKeyError\u001b[0m                                  Traceback (most recent call last)",
      "\u001b[0;32m~/opt/anaconda3/envs/PythonData/lib/python3.6/site-packages/pandas/core/indexes/base.py\u001b[0m in \u001b[0;36mget_loc\u001b[0;34m(self, key, method, tolerance)\u001b[0m\n\u001b[1;32m   2645\u001b[0m             \u001b[0;32mtry\u001b[0m\u001b[0;34m:\u001b[0m\u001b[0;34m\u001b[0m\u001b[0;34m\u001b[0m\u001b[0m\n\u001b[0;32m-> 2646\u001b[0;31m                 \u001b[0;32mreturn\u001b[0m \u001b[0mself\u001b[0m\u001b[0;34m.\u001b[0m\u001b[0m_engine\u001b[0m\u001b[0;34m.\u001b[0m\u001b[0mget_loc\u001b[0m\u001b[0;34m(\u001b[0m\u001b[0mkey\u001b[0m\u001b[0;34m)\u001b[0m\u001b[0;34m\u001b[0m\u001b[0;34m\u001b[0m\u001b[0m\n\u001b[0m\u001b[1;32m   2647\u001b[0m             \u001b[0;32mexcept\u001b[0m \u001b[0mKeyError\u001b[0m\u001b[0;34m:\u001b[0m\u001b[0;34m\u001b[0m\u001b[0;34m\u001b[0m\u001b[0m\n",
      "\u001b[0;32mpandas/_libs/index.pyx\u001b[0m in \u001b[0;36mpandas._libs.index.IndexEngine.get_loc\u001b[0;34m()\u001b[0m\n",
      "\u001b[0;32mpandas/_libs/index.pyx\u001b[0m in \u001b[0;36mpandas._libs.index.IndexEngine.get_loc\u001b[0;34m()\u001b[0m\n",
      "\u001b[0;32mpandas/_libs/hashtable_class_helper.pxi\u001b[0m in \u001b[0;36mpandas._libs.hashtable.PyObjectHashTable.get_item\u001b[0;34m()\u001b[0m\n",
      "\u001b[0;32mpandas/_libs/hashtable_class_helper.pxi\u001b[0m in \u001b[0;36mpandas._libs.hashtable.PyObjectHashTable.get_item\u001b[0;34m()\u001b[0m\n",
      "\u001b[0;31mKeyError\u001b[0m: 'Country'",
      "\nDuring handling of the above exception, another exception occurred:\n",
      "\u001b[0;31mKeyError\u001b[0m                                  Traceback (most recent call last)",
      "\u001b[0;32m<ipython-input-5-faa8c15589eb>\u001b[0m in \u001b[0;36m<module>\u001b[0;34m\u001b[0m\n\u001b[1;32m      3\u001b[0m \u001b[0;31m#Correcting United States to USA, Remove counties that don't exist\u001b[0m\u001b[0;34m\u001b[0m\u001b[0;34m\u001b[0m\u001b[0;34m\u001b[0m\u001b[0m\n\u001b[1;32m      4\u001b[0m \u001b[0;34m\u001b[0m\u001b[0m\n\u001b[0;32m----> 5\u001b[0;31m \u001b[0mwine_df\u001b[0m\u001b[0;34m[\u001b[0m\u001b[0;34m'Country'\u001b[0m\u001b[0;34m]\u001b[0m \u001b[0;34m=\u001b[0m \u001b[0mwine_df\u001b[0m\u001b[0;34m[\u001b[0m\u001b[0;34m'Country'\u001b[0m\u001b[0;34m]\u001b[0m\u001b[0;34m.\u001b[0m\u001b[0mreplace\u001b[0m\u001b[0;34m(\u001b[0m\u001b[0;34m{\u001b[0m\u001b[0;34m'United States'\u001b[0m\u001b[0;34m:\u001b[0m \u001b[0;34m'USA'\u001b[0m\u001b[0;34m,\u001b[0m \u001b[0;34m'California'\u001b[0m\u001b[0;34m:\u001b[0m \u001b[0;34m'USA'\u001b[0m\u001b[0;34m,\u001b[0m \u001b[0;34m'Franc'\u001b[0m\u001b[0;34m:\u001b[0m \u001b[0;34m'France'\u001b[0m\u001b[0;34m,\u001b[0m \u001b[0;34m'French'\u001b[0m\u001b[0;34m:\u001b[0m \u001b[0;34m'France'\u001b[0m\u001b[0;34m}\u001b[0m\u001b[0;34m)\u001b[0m\u001b[0;34m\u001b[0m\u001b[0;34m\u001b[0m\u001b[0m\n\u001b[0m\u001b[1;32m      6\u001b[0m \u001b[0;34m\u001b[0m\u001b[0m\n\u001b[1;32m      7\u001b[0m \u001b[0mcleaned_df\u001b[0m \u001b[0;34m=\u001b[0m \u001b[0mwine_df\u001b[0m\u001b[0;34m.\u001b[0m\u001b[0mloc\u001b[0m\u001b[0;34m[\u001b[0m\u001b[0;34m(\u001b[0m\u001b[0mwine_df\u001b[0m\u001b[0;34m[\u001b[0m\u001b[0;34m'Country'\u001b[0m\u001b[0;34m]\u001b[0m \u001b[0;34m!=\u001b[0m \u001b[0;34m'Blind'\u001b[0m\u001b[0;34m)\u001b[0m \u001b[0;34m&\u001b[0m \u001b[0;34m(\u001b[0m\u001b[0mwine_df\u001b[0m\u001b[0;34m[\u001b[0m\u001b[0;34m'Country'\u001b[0m\u001b[0;34m]\u001b[0m \u001b[0;34m!=\u001b[0m \u001b[0;34m'Macedonia'\u001b[0m\u001b[0;34m)\u001b[0m\u001b[0;34m]\u001b[0m\u001b[0;34m\u001b[0m\u001b[0;34m\u001b[0m\u001b[0m\n",
      "\u001b[0;32m~/opt/anaconda3/envs/PythonData/lib/python3.6/site-packages/pandas/core/frame.py\u001b[0m in \u001b[0;36m__getitem__\u001b[0;34m(self, key)\u001b[0m\n\u001b[1;32m   2798\u001b[0m             \u001b[0;32mif\u001b[0m \u001b[0mself\u001b[0m\u001b[0;34m.\u001b[0m\u001b[0mcolumns\u001b[0m\u001b[0;34m.\u001b[0m\u001b[0mnlevels\u001b[0m \u001b[0;34m>\u001b[0m \u001b[0;36m1\u001b[0m\u001b[0;34m:\u001b[0m\u001b[0;34m\u001b[0m\u001b[0;34m\u001b[0m\u001b[0m\n\u001b[1;32m   2799\u001b[0m                 \u001b[0;32mreturn\u001b[0m \u001b[0mself\u001b[0m\u001b[0;34m.\u001b[0m\u001b[0m_getitem_multilevel\u001b[0m\u001b[0;34m(\u001b[0m\u001b[0mkey\u001b[0m\u001b[0;34m)\u001b[0m\u001b[0;34m\u001b[0m\u001b[0;34m\u001b[0m\u001b[0m\n\u001b[0;32m-> 2800\u001b[0;31m             \u001b[0mindexer\u001b[0m \u001b[0;34m=\u001b[0m \u001b[0mself\u001b[0m\u001b[0;34m.\u001b[0m\u001b[0mcolumns\u001b[0m\u001b[0;34m.\u001b[0m\u001b[0mget_loc\u001b[0m\u001b[0;34m(\u001b[0m\u001b[0mkey\u001b[0m\u001b[0;34m)\u001b[0m\u001b[0;34m\u001b[0m\u001b[0;34m\u001b[0m\u001b[0m\n\u001b[0m\u001b[1;32m   2801\u001b[0m             \u001b[0;32mif\u001b[0m \u001b[0mis_integer\u001b[0m\u001b[0;34m(\u001b[0m\u001b[0mindexer\u001b[0m\u001b[0;34m)\u001b[0m\u001b[0;34m:\u001b[0m\u001b[0;34m\u001b[0m\u001b[0;34m\u001b[0m\u001b[0m\n\u001b[1;32m   2802\u001b[0m                 \u001b[0mindexer\u001b[0m \u001b[0;34m=\u001b[0m \u001b[0;34m[\u001b[0m\u001b[0mindexer\u001b[0m\u001b[0;34m]\u001b[0m\u001b[0;34m\u001b[0m\u001b[0;34m\u001b[0m\u001b[0m\n",
      "\u001b[0;32m~/opt/anaconda3/envs/PythonData/lib/python3.6/site-packages/pandas/core/indexes/base.py\u001b[0m in \u001b[0;36mget_loc\u001b[0;34m(self, key, method, tolerance)\u001b[0m\n\u001b[1;32m   2646\u001b[0m                 \u001b[0;32mreturn\u001b[0m \u001b[0mself\u001b[0m\u001b[0;34m.\u001b[0m\u001b[0m_engine\u001b[0m\u001b[0;34m.\u001b[0m\u001b[0mget_loc\u001b[0m\u001b[0;34m(\u001b[0m\u001b[0mkey\u001b[0m\u001b[0;34m)\u001b[0m\u001b[0;34m\u001b[0m\u001b[0;34m\u001b[0m\u001b[0m\n\u001b[1;32m   2647\u001b[0m             \u001b[0;32mexcept\u001b[0m \u001b[0mKeyError\u001b[0m\u001b[0;34m:\u001b[0m\u001b[0;34m\u001b[0m\u001b[0;34m\u001b[0m\u001b[0m\n\u001b[0;32m-> 2648\u001b[0;31m                 \u001b[0;32mreturn\u001b[0m \u001b[0mself\u001b[0m\u001b[0;34m.\u001b[0m\u001b[0m_engine\u001b[0m\u001b[0;34m.\u001b[0m\u001b[0mget_loc\u001b[0m\u001b[0;34m(\u001b[0m\u001b[0mself\u001b[0m\u001b[0;34m.\u001b[0m\u001b[0m_maybe_cast_indexer\u001b[0m\u001b[0;34m(\u001b[0m\u001b[0mkey\u001b[0m\u001b[0;34m)\u001b[0m\u001b[0;34m)\u001b[0m\u001b[0;34m\u001b[0m\u001b[0;34m\u001b[0m\u001b[0m\n\u001b[0m\u001b[1;32m   2649\u001b[0m         \u001b[0mindexer\u001b[0m \u001b[0;34m=\u001b[0m \u001b[0mself\u001b[0m\u001b[0;34m.\u001b[0m\u001b[0mget_indexer\u001b[0m\u001b[0;34m(\u001b[0m\u001b[0;34m[\u001b[0m\u001b[0mkey\u001b[0m\u001b[0;34m]\u001b[0m\u001b[0;34m,\u001b[0m \u001b[0mmethod\u001b[0m\u001b[0;34m=\u001b[0m\u001b[0mmethod\u001b[0m\u001b[0;34m,\u001b[0m \u001b[0mtolerance\u001b[0m\u001b[0;34m=\u001b[0m\u001b[0mtolerance\u001b[0m\u001b[0;34m)\u001b[0m\u001b[0;34m\u001b[0m\u001b[0;34m\u001b[0m\u001b[0m\n\u001b[1;32m   2650\u001b[0m         \u001b[0;32mif\u001b[0m \u001b[0mindexer\u001b[0m\u001b[0;34m.\u001b[0m\u001b[0mndim\u001b[0m \u001b[0;34m>\u001b[0m \u001b[0;36m1\u001b[0m \u001b[0;32mor\u001b[0m \u001b[0mindexer\u001b[0m\u001b[0;34m.\u001b[0m\u001b[0msize\u001b[0m \u001b[0;34m>\u001b[0m \u001b[0;36m1\u001b[0m\u001b[0;34m:\u001b[0m\u001b[0;34m\u001b[0m\u001b[0;34m\u001b[0m\u001b[0m\n",
      "\u001b[0;32mpandas/_libs/index.pyx\u001b[0m in \u001b[0;36mpandas._libs.index.IndexEngine.get_loc\u001b[0;34m()\u001b[0m\n",
      "\u001b[0;32mpandas/_libs/index.pyx\u001b[0m in \u001b[0;36mpandas._libs.index.IndexEngine.get_loc\u001b[0;34m()\u001b[0m\n",
      "\u001b[0;32mpandas/_libs/hashtable_class_helper.pxi\u001b[0m in \u001b[0;36mpandas._libs.hashtable.PyObjectHashTable.get_item\u001b[0;34m()\u001b[0m\n",
      "\u001b[0;32mpandas/_libs/hashtable_class_helper.pxi\u001b[0m in \u001b[0;36mpandas._libs.hashtable.PyObjectHashTable.get_item\u001b[0;34m()\u001b[0m\n",
      "\u001b[0;31mKeyError\u001b[0m: 'Country'"
     ]
    }
   ],
   "source": [
    "#Data Clanup\n",
    "\n",
    "#Correcting United States to USA, Remove counties that don't exist\n",
    "\n",
    "wine_df['Country'] = wine_df['Country'].replace({'United States': 'USA', 'California': 'USA', 'Franc': 'France', 'French': 'France'})\n",
    "\n",
    "cleaned_df = wine_df.loc[(wine_df['Country'] != 'Blind') & (wine_df['Country'] != 'Macedonia')]\n",
    "\n",
    "# cleaned2_df = cleaned_df.dropna(subset = ['Varietal'])\n",
    "\n",
    "# len(cleaned_df) - len(cleaned_df.dropna(subset = ['Vintage']))\n",
    "\n",
    "# cleaned_df['Vintage'].value_counts()"
   ]
  },
  {
   "cell_type": "code",
   "execution_count": null,
   "metadata": {},
   "outputs": [],
   "source": [
    "#Bar Chart of Countries with Average Rating\n",
    "\n",
    "winery_count = cleaned_df.groupby('Country').count()['Winery']\n",
    "\n",
    "wine_rating = cleaned_df.groupby('Country').mean()['Rating']\n",
    "\n",
    "winery_count_df = pd.DataFrame({'Winery Count': winery_count})\n",
    "\n",
    "wine_rating_df = pd.DataFrame({'Wine Rating': wine_rating})\n",
    "\n",
    "top10_country = winery_count_df.nlargest(10, 'Winery Count') #10 largest by Winery Count\n",
    "\n",
    "top10_rating = wine_rating_df.nlargest(10, 'Wine Rating')\n",
    "\n",
    "merge_df = top10_country.merge(wine_rating_df, on = 'Country')\n",
    "\n",
    "# top10_country.sort_values(by = 'Winery Count', ascending = False).plot(kind='bar', ylabel = 'Count of Wineries')\n",
    "\n",
    "# wine_rating_df.plot(kind='line', secondary_y = True)\n",
    "\n",
    "# plt.legend()\n",
    "\n",
    "# plt.show()\n",
    "merge_df.head(10)"
   ]
  },
  {
   "cell_type": "code",
   "execution_count": null,
   "metadata": {},
   "outputs": [],
   "source": [
    "### Vintage analysis\n",
    "\n",
    "# create a df for nv vintages\n",
    "only_nv_df = cleaned_df.loc[(cleaned_df[\"Vintage\"] == \"nv\")]\n",
    "# only_nv_df\n",
    "\n",
    "# create a df for year vintages (add .copy() to avoid warning message)\n",
    "only_year_df = cleaned_df.loc[(cleaned_df[\"Vintage\"] != \"nv\")].copy()\n",
    "\n",
    "# get list of years\n",
    "list_of_vintages = only_year_df[\"Vintage\"]\n",
    "\n",
    "# turn list of strings into integers\n",
    "only_year_df[\"Vintage\"] = [int(i) for i in only_year_df[\"Vintage\"]]\n",
    "# only_year_df[\"Vintage\"]\n",
    "\n",
    "# get years 2010-2019\n",
    "after_10_df = only_year_df.loc[(only_year_df[\"Vintage\"] >= 2010)]\n",
    "# after_10_df\n",
    "\n",
    "# merge only_nv_df and after_10_df\n",
    "my_vintages_df = pd.concat([only_nv_df, after_10_df])\n",
    "# my_vintages_df[\"Vintage\"].unique()\n",
    "\n",
    "# group by country and vintage\n",
    "my_vintages_grouped = my_vintages_df.groupby([\"Country\",\"Vintage\"])\n",
    "\n",
    "# get average ratings by country by vintage\n",
    "vint_avg_rating = my_vintages_grouped.mean().reset_index()\n",
    "vint_avg_rating"
   ]
  },
  {
   "cell_type": "code",
   "execution_count": 6,
   "metadata": {},
   "outputs": [
    {
     "ename": "NameError",
     "evalue": "name 'my_vintages_grouped' is not defined",
     "output_type": "error",
     "traceback": [
      "\u001b[0;31m---------------------------------------------------------------------------\u001b[0m",
      "\u001b[0;31mNameError\u001b[0m                                 Traceback (most recent call last)",
      "\u001b[0;32m<ipython-input-6-3f83e0544ebe>\u001b[0m in \u001b[0;36m<module>\u001b[0;34m\u001b[0m\n\u001b[1;32m      1\u001b[0m \u001b[0;31m# get number of ratings\u001b[0m\u001b[0;34m\u001b[0m\u001b[0;34m\u001b[0m\u001b[0;34m\u001b[0m\u001b[0m\n\u001b[0;32m----> 2\u001b[0;31m \u001b[0mvint_count_rating\u001b[0m \u001b[0;34m=\u001b[0m \u001b[0mmy_vintages_grouped\u001b[0m\u001b[0;34m.\u001b[0m\u001b[0mcount\u001b[0m\u001b[0;34m(\u001b[0m\u001b[0;34m)\u001b[0m\u001b[0;34m\u001b[0m\u001b[0;34m\u001b[0m\u001b[0m\n\u001b[0m\u001b[1;32m      3\u001b[0m \u001b[0;31m# vint_count_rating\u001b[0m\u001b[0;34m\u001b[0m\u001b[0;34m\u001b[0m\u001b[0;34m\u001b[0m\u001b[0m\n\u001b[1;32m      4\u001b[0m \u001b[0;34m\u001b[0m\u001b[0m\n\u001b[1;32m      5\u001b[0m \u001b[0;31m# get only country/vintage combos that have 100+ ratings\u001b[0m\u001b[0;34m\u001b[0m\u001b[0;34m\u001b[0m\u001b[0;34m\u001b[0m\u001b[0m\n",
      "\u001b[0;31mNameError\u001b[0m: name 'my_vintages_grouped' is not defined"
     ]
    }
   ],
   "source": [
    "# get number of ratings\n",
    "vint_count_rating = my_vintages_grouped.count()\n",
    "# vint_count_rating\n",
    "\n",
    "# get only country/vintage combos that have 100+ ratings\n",
    "most_rated = vint_count_rating.loc[(vint_count_rating[\"Rating\"] >= 50)]\n",
    "most_rated"
   ]
  },
  {
   "cell_type": "code",
   "execution_count": 7,
   "metadata": {},
   "outputs": [
    {
     "ename": "NameError",
     "evalue": "name 'vint_avg_rating' is not defined",
     "output_type": "error",
     "traceback": [
      "\u001b[0;31m---------------------------------------------------------------------------\u001b[0m",
      "\u001b[0;31mNameError\u001b[0m                                 Traceback (most recent call last)",
      "\u001b[0;32m<ipython-input-7-e0056f593cc0>\u001b[0m in \u001b[0;36m<module>\u001b[0;34m\u001b[0m\n\u001b[1;32m      1\u001b[0m \u001b[0;31m#make a bar graph\u001b[0m\u001b[0;34m\u001b[0m\u001b[0;34m\u001b[0m\u001b[0;34m\u001b[0m\u001b[0m\n\u001b[1;32m      2\u001b[0m \u001b[0mtop_countries\u001b[0m \u001b[0;34m=\u001b[0m \u001b[0;34m[\u001b[0m\u001b[0;34m\"Canada\"\u001b[0m\u001b[0;34m,\u001b[0m \u001b[0;34m\"France\"\u001b[0m\u001b[0;34m,\u001b[0m \u001b[0;34m\"Italy\"\u001b[0m\u001b[0;34m,\u001b[0m \u001b[0;34m\"USA\"\u001b[0m\u001b[0;34m]\u001b[0m\u001b[0;34m\u001b[0m\u001b[0;34m\u001b[0m\u001b[0m\n\u001b[0;32m----> 3\u001b[0;31m vint_top_countries_df = vint_avg_rating.loc[(vint_avg_rating[\"Country\"] == \"Canada\") |\n\u001b[0m\u001b[1;32m      4\u001b[0m                                            \u001b[0;34m(\u001b[0m\u001b[0mvint_avg_rating\u001b[0m\u001b[0;34m[\u001b[0m\u001b[0;34m\"Country\"\u001b[0m\u001b[0;34m]\u001b[0m \u001b[0;34m==\u001b[0m \u001b[0;34m\"France\"\u001b[0m\u001b[0;34m)\u001b[0m \u001b[0;34m|\u001b[0m\u001b[0;34m\u001b[0m\u001b[0;34m\u001b[0m\u001b[0m\n\u001b[1;32m      5\u001b[0m                                            \u001b[0;34m(\u001b[0m\u001b[0mvint_avg_rating\u001b[0m\u001b[0;34m[\u001b[0m\u001b[0;34m\"Country\"\u001b[0m\u001b[0;34m]\u001b[0m \u001b[0;34m==\u001b[0m \u001b[0;34m\"Italy\"\u001b[0m\u001b[0;34m)\u001b[0m \u001b[0;34m|\u001b[0m\u001b[0;34m\u001b[0m\u001b[0;34m\u001b[0m\u001b[0m\n",
      "\u001b[0;31mNameError\u001b[0m: name 'vint_avg_rating' is not defined"
     ]
    }
   ],
   "source": [
    "#make a bar graph\n",
    "top_countries = [\"Canada\", \"France\", \"Italy\", \"USA\"]\n",
    "vint_top_countries_df = vint_avg_rating.loc[(vint_avg_rating[\"Country\"] == \"Canada\") |\n",
    "                                           (vint_avg_rating[\"Country\"] == \"France\") |\n",
    "                                           (vint_avg_rating[\"Country\"] == \"Italy\") |\n",
    "                                           (vint_avg_rating[\"Country\"] == \"USA\") |\n",
    "                                           (vint_avg_rating[\"Country\"] == \"Spain\") |\n",
    "                                           (vint_avg_rating[\"Country\"] == \"Australia\") |\n",
    "                                           (vint_avg_rating[\"Country\"] == \"Argentina\") |\n",
    "                                           (vint_avg_rating[\"Country\"] == \"Chile\") |\n",
    "                                           (vint_avg_rating[\"Country\"] == \"New Zealand\") |\n",
    "                                           (vint_avg_rating[\"Country\"] == \"South Africa\")]\n",
    "# vint_top_countries_df\n",
    "\n",
    "# # plot data\n",
    "fig = px.line(vint_top_countries_df, x=\"Vintage\", y=\"Rating\", color=\"Country\",\n",
    "              title=\"Average Rating by Vintage for Top Ten Countries\") \n",
    "fig.show()"
   ]
  },
  {
   "cell_type": "code",
   "execution_count": 8,
   "metadata": {},
   "outputs": [
    {
     "ename": "NameError",
     "evalue": "name 'fig' is not defined",
     "output_type": "error",
     "traceback": [
      "\u001b[0;31m---------------------------------------------------------------------------\u001b[0m",
      "\u001b[0;31mNameError\u001b[0m                                 Traceback (most recent call last)",
      "\u001b[0;32m<ipython-input-8-0fe92cce68c7>\u001b[0m in \u001b[0;36m<module>\u001b[0;34m\u001b[0m\n\u001b[1;32m      1\u001b[0m \u001b[0;32mif\u001b[0m \u001b[0;32mnot\u001b[0m \u001b[0mos\u001b[0m\u001b[0;34m.\u001b[0m\u001b[0mpath\u001b[0m\u001b[0;34m.\u001b[0m\u001b[0mexists\u001b[0m\u001b[0;34m(\u001b[0m\u001b[0;34m\"images\"\u001b[0m\u001b[0;34m)\u001b[0m\u001b[0;34m:\u001b[0m\u001b[0;34m\u001b[0m\u001b[0;34m\u001b[0m\u001b[0m\n\u001b[1;32m      2\u001b[0m     \u001b[0mos\u001b[0m\u001b[0;34m.\u001b[0m\u001b[0mmkdir\u001b[0m\u001b[0;34m(\u001b[0m\u001b[0;34m\"images\"\u001b[0m\u001b[0;34m)\u001b[0m\u001b[0;34m\u001b[0m\u001b[0;34m\u001b[0m\u001b[0m\n\u001b[0;32m----> 3\u001b[0;31m \u001b[0mfig\u001b[0m\u001b[0;34m.\u001b[0m\u001b[0mwrite_image\u001b[0m\u001b[0;34m(\u001b[0m\u001b[0;34m\"images/Vintage_Analysis.png\"\u001b[0m\u001b[0;34m)\u001b[0m\u001b[0;34m\u001b[0m\u001b[0;34m\u001b[0m\u001b[0m\n\u001b[0m",
      "\u001b[0;31mNameError\u001b[0m: name 'fig' is not defined"
     ]
    }
   ],
   "source": [
    "if not os.path.exists(\"images\"):\n",
    "    os.mkdir(\"images\")\n",
    "fig.write_image(\"images/Vintage_Analysis.png\")"
   ]
  },
  {
   "cell_type": "code",
   "execution_count": null,
   "metadata": {},
   "outputs": [],
   "source": [
    "# Create new dataframe from to compare US vs. non-US\n",
    "# add new column with US or Not (true or false)\n",
    "cleaned_df['USA or Not']=np.where(cleaned_df['Country']=='USA',True,False)\n",
    "cleaned_df\n",
    "\n",
    "US_or_not_df = cleaned_df[['Name','Rating','Country','USA or Not']]\n",
    "US_or_not_df.head()"
   ]
  },
  {
   "cell_type": "code",
   "execution_count": null,
   "metadata": {},
   "outputs": [],
   "source": [
    " # create data for histogram to assess population distribution\n",
    "def gendata(loc1=0, loc2=0):\n",
    "    population1 = US_or_not_df.loc[US_or_not_df[\"USA or Not\"] == True, (\"Rating\")]\n",
    "    population2 = US_or_not_df.loc[US_or_not_df[\"USA or Not\"] == False, (\"Rating\")]\n",
    "\n",
    "    # Histogram Plot of Data\n",
    "    plt.subplot(2, 1, 2)\n",
    "    plt.hist(population1, 10, density=True, alpha=0.7, label=\"USA Wines\")\n",
    "    plt.hist(population2, 10, density=True, alpha=0.7, label=\"non USA Wines\")\n",
    "    plt.axvline(population1.mean(), color='k', linestyle='dashed', linewidth=1)\n",
    "    plt.axvline(population2.mean(), color='k', linestyle='dashed', linewidth=1)\n",
    "    plt.legend()  \n",
    "    \n",
    "    return population1, population2\n",
    "\n",
    "\n"
   ]
  },
  {
   "cell_type": "code",
   "execution_count": null,
   "metadata": {},
   "outputs": [],
   "source": [
    "# Generate data and show normal distributions of each calculation for a t-test\n",
    "population1, population2 = gendata()\n",
    "\n",
    "# Check quantity of data points for each pop\n",
    "print(len(population1))\n",
    "print(len(population2))"
   ]
  },
  {
   "cell_type": "code",
   "execution_count": null,
   "metadata": {},
   "outputs": [],
   "source": [
    "stats.ttest_ind(population1, population2, equal_var=False)"
   ]
  },
  {
   "cell_type": "code",
   "execution_count": 9,
   "metadata": {},
   "outputs": [
    {
     "ename": "NameError",
     "evalue": "name 'cleaned_df' is not defined",
     "output_type": "error",
     "traceback": [
      "\u001b[0;31m---------------------------------------------------------------------------\u001b[0m",
      "\u001b[0;31mNameError\u001b[0m                                 Traceback (most recent call last)",
      "\u001b[0;32m<ipython-input-9-adb9378611c5>\u001b[0m in \u001b[0;36m<module>\u001b[0;34m\u001b[0m\n\u001b[0;32m----> 1\u001b[0;31m \u001b[0mcleaned_df\u001b[0m\u001b[0;34m.\u001b[0m\u001b[0mhead\u001b[0m\u001b[0;34m(\u001b[0m\u001b[0;34m)\u001b[0m\u001b[0;34m\u001b[0m\u001b[0;34m\u001b[0m\u001b[0m\n\u001b[0m\u001b[1;32m      2\u001b[0m \u001b[0;31m# Put countries into a list for for loop (first to find the outliers in the data\u001b[0m\u001b[0;34m\u001b[0m\u001b[0;34m\u001b[0m\u001b[0;34m\u001b[0m\u001b[0m\n\u001b[1;32m      3\u001b[0m \u001b[0;31m# and then to use for Box Plot)\u001b[0m\u001b[0;34m\u001b[0m\u001b[0;34m\u001b[0m\u001b[0;34m\u001b[0m\u001b[0m\n\u001b[1;32m      4\u001b[0m \u001b[0;34m\u001b[0m\u001b[0m\n\u001b[1;32m      5\u001b[0m \u001b[0mtop_country_list\u001b[0m \u001b[0;34m=\u001b[0m \u001b[0;34m[\u001b[0m\u001b[0;34m'USA'\u001b[0m\u001b[0;34m,\u001b[0m\u001b[0;34m'Canada'\u001b[0m\u001b[0;34m,\u001b[0m \u001b[0;34m'France'\u001b[0m\u001b[0;34m,\u001b[0m \u001b[0;34m'Italy'\u001b[0m\u001b[0;34m,\u001b[0m\u001b[0;34m'Spain'\u001b[0m\u001b[0;34m,\u001b[0m\u001b[0;34m'Australia'\u001b[0m\u001b[0;34m,\u001b[0m\u001b[0;34m'Argentina'\u001b[0m\u001b[0;34m,\u001b[0m\u001b[0;34m'Chile'\u001b[0m\u001b[0;34m,\u001b[0m\u001b[0;34m'New Zealand'\u001b[0m\u001b[0;34m,\u001b[0m\u001b[0;34m'South Africa'\u001b[0m\u001b[0;34m]\u001b[0m\u001b[0;34m\u001b[0m\u001b[0;34m\u001b[0m\u001b[0m\n",
      "\u001b[0;31mNameError\u001b[0m: name 'cleaned_df' is not defined"
     ]
    }
   ],
   "source": [
    "cleaned_df.head()\n",
    "# Put countries into a list for for loop (first to find the outliers in the data\n",
    "# and then to use for Box Plot)\n",
    "\n",
    "top_country_list = ['USA','Canada', 'France', 'Italy','Spain','Australia','Argentina','Chile','New Zealand','South Africa']\n",
    "\n",
    "# Create empty list to fill with wine ratings for plotting\n",
    "wine_ratings = []\n",
    "\n",
    "# Calculate the IQR and quantitatively determine if there are any potential outliers. \n",
    "for x in top_country_list: \n",
    "    wine_rate = cleaned_df.loc[cleaned_df[\"Country\"]==x][\"Rating\"]\n",
    "    \n",
    "    # Locate the rows which contain wine for each of the top ten \n",
    "    # countries and get the wine ratings\n",
    "    wine_ratings.append(wine_rate)\n",
    "    \n",
    "    # outlier formula should be here \n",
    "    quartiles = wine_rate.quantile([.25,.5,.75])\n",
    "    lowerq = quartiles[0.25]\n",
    "    upperq = quartiles[0.75]\n",
    "    iqr = upperq - lowerq\n",
    "    print(\"----------\")\n",
    "    print(f\"For {x}, LQ: {lowerq}, UQ: {upperq}, IQR:{iqr}, Median is{quartiles[0.5]} \")\n",
    "      \n",
    "    # Determine outliers using upper and lower bounds\n",
    "    lower_bound = lowerq - (1.5*iqr)\n",
    "    upper_bound = upperq + (1.5*iqr)\n",
    "    \n",
    "    outlier = wine_rate.loc[(wine_rate<lower_bound)|(wine_rate>upper_bound)].count()\n",
    "    print(x + \" has \" + str(outlier) + \" wine rating outliers.\")\n"
   ]
  },
  {
   "cell_type": "code",
   "execution_count": 10,
   "metadata": {},
   "outputs": [
    {
     "ename": "NameError",
     "evalue": "name 'wine_ratings' is not defined",
     "output_type": "error",
     "traceback": [
      "\u001b[0;31m---------------------------------------------------------------------------\u001b[0m",
      "\u001b[0;31mNameError\u001b[0m                                 Traceback (most recent call last)",
      "\u001b[0;32m<ipython-input-10-7521f9746815>\u001b[0m in \u001b[0;36m<module>\u001b[0;34m\u001b[0m\n\u001b[1;32m      1\u001b[0m \u001b[0;31m# Generate a box plot of all the wine ratings across the wineries in the top ten countries\u001b[0m\u001b[0;34m\u001b[0m\u001b[0;34m\u001b[0m\u001b[0;34m\u001b[0m\u001b[0m\n\u001b[0;32m----> 2\u001b[0;31m \u001b[0mplt\u001b[0m\u001b[0;34m.\u001b[0m\u001b[0mboxplot\u001b[0m\u001b[0;34m(\u001b[0m\u001b[0mwine_ratings\u001b[0m\u001b[0;34m)\u001b[0m\u001b[0;34m\u001b[0m\u001b[0;34m\u001b[0m\u001b[0m\n\u001b[0m\u001b[1;32m      3\u001b[0m \u001b[0mplt\u001b[0m\u001b[0;34m.\u001b[0m\u001b[0mxlabel\u001b[0m\u001b[0;34m(\u001b[0m\u001b[0;34m\"Country\"\u001b[0m\u001b[0;34m,\u001b[0m \u001b[0mlabelpad\u001b[0m\u001b[0;34m=\u001b[0m\u001b[0;36m15\u001b[0m\u001b[0;34m)\u001b[0m\u001b[0;34m\u001b[0m\u001b[0;34m\u001b[0m\u001b[0m\n\u001b[1;32m      4\u001b[0m \u001b[0mplt\u001b[0m\u001b[0;34m.\u001b[0m\u001b[0mylabel\u001b[0m\u001b[0;34m(\u001b[0m\u001b[0;34m\"Wine Rating\"\u001b[0m\u001b[0;34m,\u001b[0m \u001b[0mlabelpad\u001b[0m\u001b[0;34m=\u001b[0m\u001b[0;36m15\u001b[0m\u001b[0;34m)\u001b[0m\u001b[0;34m\u001b[0m\u001b[0;34m\u001b[0m\u001b[0m\n\u001b[1;32m      5\u001b[0m \u001b[0mplt\u001b[0m\u001b[0;34m.\u001b[0m\u001b[0mxticks\u001b[0m\u001b[0;34m(\u001b[0m\u001b[0;34m[\u001b[0m\u001b[0;36m1\u001b[0m\u001b[0;34m,\u001b[0m\u001b[0;36m2\u001b[0m\u001b[0;34m,\u001b[0m\u001b[0;36m3\u001b[0m\u001b[0;34m,\u001b[0m\u001b[0;36m4\u001b[0m\u001b[0;34m,\u001b[0m\u001b[0;36m5\u001b[0m\u001b[0;34m,\u001b[0m\u001b[0;36m6\u001b[0m\u001b[0;34m,\u001b[0m\u001b[0;36m7\u001b[0m\u001b[0;34m,\u001b[0m\u001b[0;36m8\u001b[0m\u001b[0;34m,\u001b[0m\u001b[0;36m9\u001b[0m\u001b[0;34m,\u001b[0m\u001b[0;36m10\u001b[0m\u001b[0;34m]\u001b[0m\u001b[0;34m,\u001b[0m\u001b[0;34m[\u001b[0m\u001b[0;34m'USA'\u001b[0m\u001b[0;34m,\u001b[0m\u001b[0;34m'Canada'\u001b[0m\u001b[0;34m,\u001b[0m \u001b[0;34m'France'\u001b[0m\u001b[0;34m,\u001b[0m \u001b[0;34m'Italy'\u001b[0m\u001b[0;34m,\u001b[0m\u001b[0;34m'Spain'\u001b[0m\u001b[0;34m,\u001b[0m\u001b[0;34m'Australia'\u001b[0m\u001b[0;34m,\u001b[0m\u001b[0;34m'Argentina'\u001b[0m\u001b[0;34m,\u001b[0m\u001b[0;34m'Chile'\u001b[0m\u001b[0;34m,\u001b[0m\u001b[0;34m'New Zealand'\u001b[0m\u001b[0;34m,\u001b[0m\u001b[0;34m'South Africa'\u001b[0m\u001b[0;34m]\u001b[0m\u001b[0;34m,\u001b[0m\u001b[0mrotation\u001b[0m\u001b[0;34m=\u001b[0m\u001b[0;34m\"vertical\"\u001b[0m\u001b[0;34m)\u001b[0m\u001b[0;34m\u001b[0m\u001b[0;34m\u001b[0m\u001b[0m\n",
      "\u001b[0;31mNameError\u001b[0m: name 'wine_ratings' is not defined"
     ]
    }
   ],
   "source": [
    "# Generate a box plot of all the wine ratings across the wineries in the top ten countries\n",
    "plt.boxplot(wine_ratings)\n",
    "plt.xlabel(\"Country\", labelpad=15)\n",
    "plt.ylabel(\"Wine Rating\", labelpad=15)\n",
    "plt.xticks([1,2,3,4,5,6,7,8,9,10],['USA','Canada', 'France', 'Italy','Spain','Australia','Argentina','Chile','New Zealand','South Africa'],rotation=\"vertical\")\n",
    "plt.title(\"Box Plots of Wine Ratings for top Ten Countries\", y=1, fontsize=14);\n",
    "plt.show()"
   ]
  },
  {
   "cell_type": "code",
   "execution_count": null,
   "metadata": {},
   "outputs": [],
   "source": [
    "# Store Variables\n",
    "\n",
    "# All varietals split from their commas in the cell\n",
    "varietals_split = cleaned_df['Varietal'].astype(str).str.split(',\\s+', expand=True).stack().value_counts()\n",
    "varietals_split.head(50)\n",
    "# # # Count of varietals by country\n",
    "varietals_count = cleaned_df.groupby('Country').count()['Varietal']\n",
    "# print(varietals_count)\n",
    "\n",
    "# Count of wineries by country\n",
    "winery_count = cleaned_df.groupby('Country').count()['Winery']\n",
    "\n",
    "# Average rating of wines in each country\n",
    "wine_rating = cleaned_df.groupby('Country').mean()['Rating']\n"
   ]
  },
  {
   "cell_type": "code",
   "execution_count": null,
   "metadata": {},
   "outputs": [],
   "source": [
    "# df options\n",
    "\n",
    "# Count of wineries by country\n",
    "winery_count_df = pd.DataFrame({'Winery Count': winery_count})\n",
    "\n",
    "# Average rating of wines in each country\n",
    "wine_rating_df = pd.DataFrame({'Wine Rating': wine_rating})\n",
    "\n",
    "# Count of varietals by country\n",
    "varietals_count_df = pd.DataFrame({'Varietals Count':varietals_count})\n",
    "varietals_count_df\n",
    "\n",
    "# Top Varietals (Varietals that appear most frequently in our dataset)\n",
    "varietals_split_df = pd.DataFrame({'Top Varietals': varietals_split })\n",
    "varietals_split_df"
   ]
  },
  {
   "cell_type": "code",
   "execution_count": null,
   "metadata": {},
   "outputs": [],
   "source": [
    "# Top 10 Options\n",
    "\n",
    "# Variale for top 10 wine producing countries\n",
    "top10_country = winery_count_df.nlargest(10, 'Winery Count') \n",
    "\n",
    "# Variable for top 10 rating on wines\n",
    "top10_rating = wine_rating_df.nlargest(10, 'Wine Rating')\n",
    "\n",
    "# Variable for count of varietals in our top 10 countries \n",
    "top10_varietals_df = varietals_count_df.nlargest(10, 'Varietals Count')\n",
    "top10_varietals_df\n",
    "\n",
    "# Variable for split varietals (most frequently listed in our dataset)\n",
    "top10_varietals_split_df = varietals_split_df.nlargest(10, 'Top Varietals')\n",
    "top10_varietals_split_df"
   ]
  },
  {
   "cell_type": "code",
   "execution_count": null,
   "metadata": {},
   "outputs": [],
   "source": [
    "# Merge Top Wine Producing Countries with Average Ratings for those Countries\n",
    "merge_df = top10_country.merge(wine_rating_df, on = 'Country')\n",
    "\n",
    "# Merge Varietals Count/Wine Rating/Winery Cout on Country\n",
    "merge_varietals_df = merge_df.merge(varietals_count_df, on = 'Country')\n",
    "merge_varietals_df"
   ]
  },
  {
   "cell_type": "code",
   "execution_count": null,
   "metadata": {},
   "outputs": [],
   "source": [
    "\n",
    "# Plot for Top Ten Varietal Types in the Top Ten Wine Producing Countries\n",
    "top10_var_plot = top10_varietals_split_df.plot.bar(rot=90, facecolor=\"maroon\", align=\"center\")\n",
    "plt.xlabel('Countries', fontsize=10)\n",
    "plt.ylabel('Top Varietals in Top Wine Producing Countries', fontsize=10)\n",
    "plt.tight_layout()\n",
    "plt.savefig(\"top10_var_plot\")"
   ]
  },
  {
   "cell_type": "code",
   "execution_count": null,
   "metadata": {},
   "outputs": [],
   "source": [
    "# First, Locate pure varietal using loc and count\n",
    "# Next, create dataframe of top ten highest amount of occurance of pure varietal, mean rating for that type of varietal\n",
    "# Finally, create bar plot\n",
    "\n",
    "# Top Varietals Count and Mean Rating\n",
    "cab_sauv = \"Cabernet Sauvignon\"\n",
    "cab_sauv_cnt = cleaned_df.loc[(cleaned_df[\"Varietal\"] == \"Cabernet Sauvignon\"), \"Varietal\"].count()\n",
    "cab_sauv_rat = cleaned_df.loc[(cleaned_df[\"Varietal\"] == \"Cabernet Sauvignon\"),\"Rating\"].mean()\n",
    "\n",
    "\n",
    "pin_noir = \"Pinot Noir\"\n",
    "pin_noir_cnt=cleaned_df.loc[(cleaned_df[\"Varietal\"] == \"Pinot Noir\"), \"Varietal\"].count()\n",
    "pin_noir_rat=cleaned_df.loc[(cleaned_df[\"Varietal\"] == \"Pinot Noir\"),\"Rating\"].mean()\n",
    "\n",
    "merlot=\"Merlot\"\n",
    "merlot_cnt=cleaned_df.loc[(cleaned_df[\"Varietal\"] == \"Merlot\"), \"Varietal\"].count()\n",
    "merlot_rat=cleaned_df.loc[(cleaned_df[\"Varietal\"] == \"Merlot\"),\"Rating\"].mean()\n",
    "\n",
    "char=\"Chardonnay\"\n",
    "char_cnt=cleaned_df.loc[(cleaned_df[\"Varietal\"] == \"Chardonnay\"), \"Varietal\"].count()\n",
    "char_rat=cleaned_df.loc[(cleaned_df[\"Varietal\"] == \"Chardonnay\"),\"Rating\"].mean()\n",
    "\n",
    "syrah=\"Syrah\"\n",
    "syrah_cnt=cleaned_df.loc[(cleaned_df[\"Varietal\"] == \"Syrah\"), \"Varietal\"].count()\n",
    "syrah_rat=cleaned_df.loc[(cleaned_df[\"Varietal\"] == \"Syrah\"),\"Rating\"].mean()\n",
    "\n",
    "sauv_blanc=\"Sauvignon Blanc\"\n",
    "sauv_blanc_cnt=cleaned_df.loc[(cleaned_df[\"Varietal\"] == \"Sauvignon Blanc\"), \"Varietal\"].count()\n",
    "sauv_blanc_rat=cleaned_df.loc[(cleaned_df[\"Varietal\"] == \"Sauvignon Blanc\"),\"Rating\"].mean()\n",
    "\n",
    "cab_fra=\"Cabernet Franc\"\n",
    "cab_fra_cnt=cleaned_df.loc[(cleaned_df[\"Varietal\"] == \"Cabernet Franc\"), \"Varietal\"].count()\n",
    "cab_fra_rat=cleaned_df.loc[(cleaned_df[\"Varietal\"] == \"Cabernet Franc\"),\"Rating\"].mean()\n",
    "\n",
    "pin_gris=\"Pinot Gris\"\n",
    "pin_gris_cnt=cleaned_df.loc[(cleaned_df[\"Varietal\"] == \"Pinot Gris\"), \"Varietal\"].count()\n",
    "pin_gris_rat=cleaned_df.loc[(cleaned_df[\"Varietal\"] == \"Pinot Gris\"),\"Rating\"].mean()\n",
    "\n",
    "ries=\"Riesling\"\n",
    "ries_cnt=cleaned_df.loc[(cleaned_df[\"Varietal\"] == \"Riesling\"), \"Varietal\"].count()\n",
    "ries_rat=cleaned_df.loc[(cleaned_df[\"Varietal\"] == \"Riesling\"),\"Rating\"].mean()\n",
    "\n",
    "mal=\"Malbec\"\n",
    "mal_cnt=cleaned_df.loc[(cleaned_df[\"Varietal\"] == \"Malbec\"), \"Varietal\"].count()\n",
    "mal_rat=cleaned_df.loc[(cleaned_df[\"Varietal\"] == \"Malbec\"),\"Rating\"].mean()\n",
    "\n"
   ]
  },
  {
   "cell_type": "code",
   "execution_count": null,
   "metadata": {},
   "outputs": [],
   "source": [
    "varietal_dicts = {\n",
    "        \"Varietal\" : [cab_sauv, pin_noir, merlot, char, syrah, sauv_blanc, cab_fra, pin_gris, ries, mal],\n",
    "        \"Average Varietal Rating\" : [cab_sauv_rat, pin_noir_rat, merlot_rat, char_rat, syrah_rat, sauv_blanc_rat, cab_fra_rat, pin_gris_rat, ries_rat, mal_rat]\n",
    "                  }\n",
    "        \n",
    "var_rat_df = pd.DataFrame(varietal_dicts)\n",
    "var_rat_df.set_index(\"Varietal\", inplace=True)\n",
    "var_rat_df\n",
    "\n"
   ]
  },
  {
   "cell_type": "code",
   "execution_count": null,
   "metadata": {},
   "outputs": [],
   "source": [
    "# Plot for Top Ten Varietal Types and Ratings\n",
    "var_rat_df_plot = var_rat_df.plot.bar(rot=90, facecolor=\"maroon\", align=\"center\",ylim=(75,80))\n",
    "plt.xlabel('Varietal', fontsize=10)\n",
    "plt.ylabel('Average Rating', fontsize=10)\n",
    "plt.tight_layout()\n",
    "plt.savefig(\"top10_var_plot\")"
   ]
  },
  {
   "cell_type": "code",
   "execution_count": null,
   "metadata": {},
   "outputs": [],
   "source": [
    "varietal_dicts = {\n",
    "        \"Varietal\" : [cab_sauv, pin_noir, merlot, char, syrah, sauv_blanc, cab_fra, pin_gris, ries, mal],\n",
    "        \"Varietal Count\" : [cab_sauv_cnt, pin_noir_cnt, merlot_cnt, char_cnt,syrah_cnt,sauv_blanc_cnt,cab_fra_cnt,pin_gris_cnt,ries_cnt,mal_cnt],\n",
    "                         }\n",
    "var_cnt_df = pd.DataFrame(varietal_dicts)\n",
    "var_cnt_df\n"
   ]
  },
  {
   "cell_type": "code",
   "execution_count": null,
   "metadata": {},
   "outputs": [],
   "source": [
    "# Plot for Top Ten Varietal Types in the Top Ten Wine Producing Countries\n",
    "top10_var_plot = top10_varietals_split_df.plot.bar(rot=90, facecolor=\"maroon\", align=\"center\")\n",
    "plt.xlabel('Varietal', fontsize=10)\n",
    "plt.ylabel('Top Varietals', fontsize=10)\n",
    "plt.tight_layout()\n",
    "plt.savefig(\"top10_var_plot\")"
   ]
  }
 ],
 "metadata": {
  "kernelspec": {
   "display_name": "Python 3",
   "language": "python",
   "name": "python3"
  },
  "language_info": {
   "codemirror_mode": {
    "name": "ipython",
    "version": 3
   },
   "file_extension": ".py",
   "mimetype": "text/x-python",
   "name": "python",
   "nbconvert_exporter": "python",
   "pygments_lexer": "ipython3",
   "version": "3.8.3"
  }
 },
 "nbformat": 4,
 "nbformat_minor": 4
}
