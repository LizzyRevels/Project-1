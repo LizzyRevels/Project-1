{
 "cells": [
  {
   "cell_type": "code",
   "execution_count": null,
   "metadata": {},
   "outputs": [],
   "source": [
    "%matplotlib notebook"
   ]
  },
  {
   "cell_type": "code",
   "execution_count": null,
   "metadata": {},
   "outputs": [],
   "source": [
    "from scipy.stats import linregress\n",
    "import matplotlib.pyplot as plt\n",
    "import pandas as pd\n",
    "import numpy as np\n",
    "import requests\n",
    "import gmaps\n",
    "import os"
   ]
  },
  {
   "cell_type": "code",
   "execution_count": null,
   "metadata": {},
   "outputs": [],
   "source": [
    "wine_df = pd.read_csv('Wine_data.csv', encoding=\"ISO-8859-1\")\n",
    "\n",
    "wine_df.head()"
   ]
  },
  {
   "cell_type": "code",
   "execution_count": null,
   "metadata": {},
   "outputs": [],
   "source": []
  },
  {
   "cell_type": "code",
   "execution_count": null,
   "metadata": {},
   "outputs": [],
   "source": [
    "#Data Clanup\n",
    "\n",
    "#Correcting United States to USA, Remove counties that don't exist\n",
    "\n",
    "wine_df['Country'] = wine_df['Country'].replace({'United States': 'USA', 'California': 'USA', 'Franc': 'France', 'French': 'France'})\n",
    "\n",
    "cleaned_df = wine_df.loc[(wine_df['Country'] != 'Blind') & (wine_df['Country'] != 'Macedonia')]\n",
    "\n",
    "# cleaned2_df = cleaned_df.dropna(subset = ['Varietal'])\n",
    "\n",
    "# len(cleaned_df) - len(cleaned_df.dropna(subset = ['Vintage']))\n",
    "\n",
    "# cleaned_df['Vintage'].value_counts()"
   ]
  },
  {
   "cell_type": "code",
   "execution_count": null,
   "metadata": {},
   "outputs": [],
   "source": [
    "#Bar Chart of Countries with Average Rating\n",
    "\n",
    "winery_count = cleaned_df.groupby('Country').count()['Winery']\n",
    "\n",
    "wine_rating = cleaned_df.groupby('Country').mean()['Rating']\n",
    "\n",
    "winery_count_df = pd.DataFrame({'Winery Count': winery_count})\n",
    "\n",
    "wine_rating_df = pd.DataFrame({'Wine Rating': wine_rating})\n",
    "\n",
    "top10_country = winery_count_df.nlargest(10, 'Winery Count') #10 largest by Winery Count\n",
    "\n",
    "top10_rating = wine_rating_df.nlargest(10, 'Wine Rating')\n",
    "\n",
    "merge_df = top10_country.merge(wine_rating_df, on = 'Country')\n",
    "\n",
    "# top10_country.sort_values(by = 'Winery Count', ascending = False).plot(kind='bar', ylabel = 'Count of Wineries')\n",
    "\n",
    "# wine_rating_df.plot(kind='line', secondary_y = True)\n",
    "\n",
    "# plt.legend()\n",
    "\n",
    "# plt.show()\n",
    "merge_df.head(10)"
   ]
  },
  {
   "cell_type": "code",
   "execution_count": null,
   "metadata": {},
   "outputs": [],
   "source": [
    "cleaned_df.head()"
   ]
  },
  {
   "cell_type": "code",
   "execution_count": null,
   "metadata": {},
   "outputs": [],
   "source": [
    "# Vintage analysis\n",
    "\n",
    "only_nv_df = cleaned_df.loc[(cleaned_df[\"Vintage\"] == \"nv\")]\n",
    "# only_nv_df\n",
    "\n",
    "only_year_df = cleaned_df.loc[(cleaned_df[\"Vintage\"] != \"nv\")]\n",
    "\n",
    "# only_year_df[\"Vintage\"] = int(only_year_df[\"Vintage\"])\n",
    "\n",
    "list_of_vintages = only_year_df[\"Vintage\"]\n",
    "\n",
    "only_year_df[\"Vintage\"] = [int(i) for i in only_year_df[\"Vintage\"]]\n",
    "\n",
    "only_year_df[\"Vintage\"]\n",
    "\n",
    "after_05_df = only_year_df.loc[(only_year_df[\"Vintage\"] >= 2010)]\n",
    "after_05_df\n",
    "\n",
    "\n",
    "after_05_grouped = after_05_df.groupby([\"Country\", \"Vintage\"])\n",
    "vint_avg_rating = after_05_grouped.mean()\n",
    "most_rated = vint_avg_rating.loc[(vint_avg_rating[\"Rating\"] > 100)]\n",
    "most_rated\n",
    "\n",
    "# top_countries = [\"Canada\", \"France\", \"Italy\", \"USA\"]\n",
    "\n",
    "# create a bar graph that has 4 bars (top_countries) x axis is year (2010-2018) including nv and y axis is avg rating"
   ]
  },
  {
   "cell_type": "code",
   "execution_count": null,
   "metadata": {},
   "outputs": [],
   "source": [
    "#make a line graph\n",
    "vint_avg_rating.plot.line()\n"
   ]
  }
 ],
 "metadata": {
  "kernelspec": {
   "display_name": "Python 3",
   "language": "python",
   "name": "python3"
  },
  "language_info": {
   "codemirror_mode": {
    "name": "ipython",
    "version": 3
   },
   "file_extension": ".py",
   "mimetype": "text/x-python",
   "name": "python",
   "nbconvert_exporter": "python",
   "pygments_lexer": "ipython3",
   "version": "3.8.3"
  }
 },
 "nbformat": 4,
 "nbformat_minor": 4
}
